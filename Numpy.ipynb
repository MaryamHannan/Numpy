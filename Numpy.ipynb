{
 "cells": [
  {
   "cell_type": "code",
   "execution_count": 1,
   "id": "ca50843e-4cd6-4cd8-b0c1-4b6f795845a7",
   "metadata": {},
   "outputs": [],
   "source": [
    "import numpy as np"
   ]
  },
  {
   "cell_type": "code",
   "execution_count": 3,
   "id": "c0b21927-3e4e-4e64-a7f9-5a7665c2c18b",
   "metadata": {},
   "outputs": [
    {
     "data": {
      "text/plain": [
       "array([10, 20, 30, 40])"
      ]
     },
     "execution_count": 3,
     "metadata": {},
     "output_type": "execute_result"
    }
   ],
   "source": [
    "n1=np.array([10,20,30,40])\n",
    "n1"
   ]
  },
  {
   "cell_type": "code",
   "execution_count": 4,
   "id": "69f4ac08-4e2f-40c1-9ef9-9c7788f71982",
   "metadata": {},
   "outputs": [
    {
     "data": {
      "text/plain": [
       "numpy.ndarray"
      ]
     },
     "execution_count": 4,
     "metadata": {},
     "output_type": "execute_result"
    }
   ],
   "source": [
    "type(n1)"
   ]
  },
  {
   "cell_type": "code",
   "execution_count": 5,
   "id": "613c1dcd-39c4-49eb-943c-86793fb05d40",
   "metadata": {},
   "outputs": [
    {
     "data": {
      "text/plain": [
       "array([[10, 20, 30, 40, 50],\n",
       "       [70, 43, 28, 90, 12]])"
      ]
     },
     "execution_count": 5,
     "metadata": {},
     "output_type": "execute_result"
    }
   ],
   "source": [
    "n2=np.array([[10,20,30,40,50],[70,43,28,90,12]])\n",
    "n2"
   ]
  },
  {
   "cell_type": "code",
   "execution_count": 8,
   "id": "9fc7c1a7-51ba-4972-a6ba-bc05b6deb2da",
   "metadata": {},
   "outputs": [],
   "source": [
    "n3=np.zeros((5,5))"
   ]
  },
  {
   "cell_type": "code",
   "execution_count": 9,
   "id": "cddc12b7-a3f3-43ba-b9a9-b6b6a9c6f6ed",
   "metadata": {},
   "outputs": [
    {
     "data": {
      "text/plain": [
       "array([[0., 0., 0., 0., 0.],\n",
       "       [0., 0., 0., 0., 0.],\n",
       "       [0., 0., 0., 0., 0.],\n",
       "       [0., 0., 0., 0., 0.],\n",
       "       [0., 0., 0., 0., 0.]])"
      ]
     },
     "execution_count": 9,
     "metadata": {},
     "output_type": "execute_result"
    }
   ],
   "source": [
    "n3"
   ]
  },
  {
   "cell_type": "code",
   "execution_count": 11,
   "id": "bf526f56-7407-4f29-b4ae-2caf5d8726a2",
   "metadata": {},
   "outputs": [],
   "source": [
    "n4=np.zeros((1,2))"
   ]
  },
  {
   "cell_type": "code",
   "execution_count": 12,
   "id": "61c56349-a6be-49ff-b614-796ec52c1f40",
   "metadata": {},
   "outputs": [
    {
     "data": {
      "text/plain": [
       "array([[0., 0.]])"
      ]
     },
     "execution_count": 12,
     "metadata": {},
     "output_type": "execute_result"
    }
   ],
   "source": [
    "n4"
   ]
  },
  {
   "cell_type": "markdown",
   "id": "256c9c8a-35ca-4dc0-8edb-8c6a26a31176",
   "metadata": {},
   "source": [
    "# For Same value"
   ]
  },
  {
   "cell_type": "code",
   "execution_count": 13,
   "id": "c72bda73-9887-4547-91c1-a2fb2dce0b77",
   "metadata": {},
   "outputs": [
    {
     "data": {
      "text/plain": [
       "array([[10, 10],\n",
       "       [10, 10]])"
      ]
     },
     "execution_count": 13,
     "metadata": {},
     "output_type": "execute_result"
    }
   ],
   "source": [
    "n5=np.full((2,2),10)\n",
    "n5"
   ]
  },
  {
   "cell_type": "code",
   "execution_count": 14,
   "id": "1f846fa3-2e3b-4ff4-b430-872090b0f250",
   "metadata": {},
   "outputs": [
    {
     "data": {
      "text/plain": [
       "array([[5, 5, 5, 5, 5, 5, 5, 5],\n",
       "       [5, 5, 5, 5, 5, 5, 5, 5],\n",
       "       [5, 5, 5, 5, 5, 5, 5, 5],\n",
       "       [5, 5, 5, 5, 5, 5, 5, 5]])"
      ]
     },
     "execution_count": 14,
     "metadata": {},
     "output_type": "execute_result"
    }
   ],
   "source": [
    "n6=np.full((4,8),5)\n",
    "n6"
   ]
  },
  {
   "cell_type": "markdown",
   "id": "ef76dfef-a160-47f7-b76c-4dd871896cd3",
   "metadata": {},
   "source": [
    "# NP.ARANGE METHOD FOR DIFFERENT ARRAY VALUES"
   ]
  },
  {
   "cell_type": "code",
   "execution_count": 16,
   "id": "d3a8c298-947e-43fe-884e-404bc0240a0e",
   "metadata": {},
   "outputs": [
    {
     "data": {
      "text/plain": [
       "array([10, 11, 12, 13, 14, 15, 16, 17, 18, 19])"
      ]
     },
     "execution_count": 16,
     "metadata": {},
     "output_type": "execute_result"
    }
   ],
   "source": [
    "n7=np.arange(10,20)\n",
    "n7"
   ]
  },
  {
   "cell_type": "code",
   "execution_count": 18,
   "id": "1ca5a311-4d5c-4c19-8cb6-b108a8ce54e8",
   "metadata": {},
   "outputs": [
    {
     "data": {
      "text/plain": [
       "array([10, 15, 20, 25, 30, 35, 40, 45, 50])"
      ]
     },
     "execution_count": 18,
     "metadata": {},
     "output_type": "execute_result"
    }
   ],
   "source": [
    "n8=np.arange(10,55,5)\n",
    "n8"
   ]
  },
  {
   "cell_type": "markdown",
   "id": "876419b3-77aa-4461-910c-2b4fe359d14e",
   "metadata": {},
   "source": [
    "# for random values"
   ]
  },
  {
   "cell_type": "code",
   "execution_count": 20,
   "id": "8a2c0c32-d5b3-4005-a6ef-59e5b114cbc4",
   "metadata": {},
   "outputs": [
    {
     "data": {
      "text/plain": [
       "array([63, 42, 37, 39, 67])"
      ]
     },
     "execution_count": 20,
     "metadata": {},
     "output_type": "execute_result"
    }
   ],
   "source": [
    "n9=np.random.randint(1,100,5)\n",
    "n9"
   ]
  },
  {
   "cell_type": "markdown",
   "id": "b320566a-c5fe-4222-a930-fadc913fa5a8",
   "metadata": {},
   "source": [
    "# checking the shape of numpy array"
   ]
  },
  {
   "cell_type": "code",
   "execution_count": 21,
   "id": "e2f67d33-2fe2-4de3-ba94-ba321233552e",
   "metadata": {},
   "outputs": [
    {
     "data": {
      "text/plain": [
       "(2, 5)"
      ]
     },
     "execution_count": 21,
     "metadata": {},
     "output_type": "execute_result"
    }
   ],
   "source": [
    "n2=np.array([[10,20,30,40,50],[70,43,28,90,12]])\n",
    "n2.shape"
   ]
  },
  {
   "cell_type": "markdown",
   "id": "2412770b-e2cb-4422-99fe-63cbfe8b0379",
   "metadata": {},
   "source": [
    "# To change the shape of exiating array"
   ]
  },
  {
   "cell_type": "code",
   "execution_count": 22,
   "id": "7d51c8bc-f90d-4b3c-aa4b-f04b0d10836b",
   "metadata": {},
   "outputs": [
    {
     "data": {
      "text/plain": [
       "array([[10, 20],\n",
       "       [30, 40],\n",
       "       [50, 70],\n",
       "       [43, 28],\n",
       "       [90, 12]])"
      ]
     },
     "execution_count": 22,
     "metadata": {},
     "output_type": "execute_result"
    }
   ],
   "source": [
    "n2.shape=(5,2)\n",
    "n2"
   ]
  },
  {
   "cell_type": "markdown",
   "id": "c60e30ab-800c-4001-8172-b09d9a0cab77",
   "metadata": {},
   "source": [
    "# vstack,hstack,column_stack"
   ]
  },
  {
   "cell_type": "code",
   "execution_count": 24,
   "id": "d1d34740-f77c-41f6-921a-50984930763d",
   "metadata": {},
   "outputs": [
    {
     "data": {
      "text/plain": [
       "array([[10, 20, 30],\n",
       "       [40, 50, 60]])"
      ]
     },
     "execution_count": 24,
     "metadata": {},
     "output_type": "execute_result"
    }
   ],
   "source": [
    "n1=np.array([10,20,30])\n",
    "n2=np.array([40,50,60])\n",
    "np.vstack((n1,n2))"
   ]
  },
  {
   "cell_type": "code",
   "execution_count": 25,
   "id": "53970eba-c29c-4742-9eb3-15c496433251",
   "metadata": {},
   "outputs": [
    {
     "data": {
      "text/plain": [
       "array([10, 20, 30, 40, 50, 60])"
      ]
     },
     "execution_count": 25,
     "metadata": {},
     "output_type": "execute_result"
    }
   ],
   "source": [
    "np.hstack((n1,n2))"
   ]
  },
  {
   "cell_type": "code",
   "execution_count": 26,
   "id": "27100b33-ab84-46ca-a653-559a049c6935",
   "metadata": {},
   "outputs": [
    {
     "data": {
      "text/plain": [
       "array([[10, 40],\n",
       "       [20, 50],\n",
       "       [30, 60]])"
      ]
     },
     "execution_count": 26,
     "metadata": {},
     "output_type": "execute_result"
    }
   ],
   "source": [
    "np.column_stack((n1,n2))"
   ]
  },
  {
   "cell_type": "markdown",
   "id": "aa9191f0-630d-477b-b48d-a65be77e1668",
   "metadata": {},
   "source": [
    "# intersection & difference"
   ]
  },
  {
   "cell_type": "code",
   "execution_count": 28,
   "id": "1f21e3ee-6dd7-430c-8de4-bc701e72098d",
   "metadata": {},
   "outputs": [],
   "source": [
    "n3=np.array([10,20,30,40,50,60])\n",
    "n4=np.array([50,60,70,80,90])"
   ]
  },
  {
   "cell_type": "code",
   "execution_count": 29,
   "id": "46663b4e-123f-4595-97c1-29d00e46c2d1",
   "metadata": {},
   "outputs": [
    {
     "data": {
      "text/plain": [
       "array([50, 60])"
      ]
     },
     "execution_count": 29,
     "metadata": {},
     "output_type": "execute_result"
    }
   ],
   "source": [
    "np.intersect1d(n3,n4)"
   ]
  },
  {
   "cell_type": "code",
   "execution_count": 31,
   "id": "3b3fa89d-ad6c-4d35-a3e7-14df304a197a",
   "metadata": {},
   "outputs": [
    {
     "data": {
      "text/plain": [
       "array([10, 20, 30, 40])"
      ]
     },
     "execution_count": 31,
     "metadata": {},
     "output_type": "execute_result"
    }
   ],
   "source": [
    "np.setdiff1d(n3,n4)"
   ]
  },
  {
   "cell_type": "code",
   "execution_count": 32,
   "id": "71e98816-ad6d-4b35-9db2-f46c2239fcc3",
   "metadata": {},
   "outputs": [
    {
     "data": {
      "text/plain": [
       "array([70, 80, 90])"
      ]
     },
     "execution_count": 32,
     "metadata": {},
     "output_type": "execute_result"
    }
   ],
   "source": [
    "np.setdiff1d(n4,n3)"
   ]
  },
  {
   "cell_type": "markdown",
   "id": "e178602d-c3e1-4042-bc8e-a18031376f47",
   "metadata": {},
   "source": [
    "# Addition of Numpy Array"
   ]
  },
  {
   "cell_type": "code",
   "execution_count": 53,
   "id": "16d43f8b-1b8a-4f2b-8b8f-fc85641aa9de",
   "metadata": {},
   "outputs": [
    {
     "data": {
      "text/plain": [
       "469"
      ]
     },
     "execution_count": 53,
     "metadata": {},
     "output_type": "execute_result"
    }
   ],
   "source": [
    "n1=np.array([10,20,10,30,40,10])\n",
    "n2=np.array([40,30,70,80,60,69])\n",
    "np.sum([n1,n2])"
   ]
  },
  {
   "cell_type": "code",
   "execution_count": 38,
   "id": "600a81c1-42a6-40b7-886f-066046f6800b",
   "metadata": {},
   "outputs": [
    {
     "data": {
      "text/plain": [
       "array([50, 50])"
      ]
     },
     "execution_count": 38,
     "metadata": {},
     "output_type": "execute_result"
    }
   ],
   "source": [
    "np.sum([n1,n2],axis=0)"
   ]
  },
  {
   "cell_type": "code",
   "execution_count": 39,
   "id": "042f1678-748a-434e-bb9e-4aaf2cbbe698",
   "metadata": {},
   "outputs": [
    {
     "data": {
      "text/plain": [
       "array([30, 70])"
      ]
     },
     "execution_count": 39,
     "metadata": {},
     "output_type": "execute_result"
    }
   ],
   "source": [
    "np.sum([n1,n2],axis=1)"
   ]
  },
  {
   "cell_type": "markdown",
   "id": "cbc354cf-7407-4ee9-9e1e-3616f2bbfa44",
   "metadata": {},
   "source": [
    "# basic addition,mult,subt,division"
   ]
  },
  {
   "cell_type": "code",
   "execution_count": 44,
   "id": "0a061d8a-ccfb-4dad-ba9a-7a7c7e655d19",
   "metadata": {},
   "outputs": [
    {
     "data": {
      "text/plain": [
       "array([11, 21])"
      ]
     },
     "execution_count": 44,
     "metadata": {},
     "output_type": "execute_result"
    }
   ],
   "source": [
    "n1=n1+1\n",
    "n1"
   ]
  },
  {
   "cell_type": "code",
   "execution_count": 45,
   "id": "1995f76c-ec93-4d94-956f-6aea3b0e0d51",
   "metadata": {},
   "outputs": [
    {
     "data": {
      "text/plain": [
       "array([11, 21])"
      ]
     },
     "execution_count": 45,
     "metadata": {},
     "output_type": "execute_result"
    }
   ],
   "source": [
    "n1=n1*1\n",
    "n1"
   ]
  },
  {
   "cell_type": "code",
   "execution_count": 46,
   "id": "a5592204-3c3e-4158-857a-dce8e6421fc1",
   "metadata": {},
   "outputs": [
    {
     "data": {
      "text/plain": [
       "array([ 9, 19])"
      ]
     },
     "execution_count": 46,
     "metadata": {},
     "output_type": "execute_result"
    }
   ],
   "source": [
    "n1=n1-2\n",
    "n1"
   ]
  },
  {
   "cell_type": "code",
   "execution_count": 47,
   "id": "6751ca2c-017f-4997-a08c-d2f7e44b10e3",
   "metadata": {},
   "outputs": [
    {
     "data": {
      "text/plain": [
       "array([10, 20])"
      ]
     },
     "execution_count": 47,
     "metadata": {},
     "output_type": "execute_result"
    }
   ],
   "source": [
    "n1=n1+1\n",
    "n1"
   ]
  },
  {
   "cell_type": "code",
   "execution_count": 48,
   "id": "84ae4fe5-f0d9-40b6-ad6f-23e2680c23b7",
   "metadata": {},
   "outputs": [
    {
     "data": {
      "text/plain": [
       "array([ 5., 10.])"
      ]
     },
     "execution_count": 48,
     "metadata": {},
     "output_type": "execute_result"
    }
   ],
   "source": [
    "n1=n1/2\n",
    "n1"
   ]
  },
  {
   "cell_type": "markdown",
   "id": "c2e62a98-b95f-42a8-8dc6-c0308be8fefc",
   "metadata": {},
   "source": [
    "# mean median std deviation"
   ]
  },
  {
   "cell_type": "code",
   "execution_count": 57,
   "id": "2e4453f9-bedc-4b7d-afbe-960247d90df8",
   "metadata": {},
   "outputs": [
    {
     "data": {
      "text/plain": [
       "20.0"
      ]
     },
     "execution_count": 57,
     "metadata": {},
     "output_type": "execute_result"
    }
   ],
   "source": [
    "np.mean(n1)"
   ]
  },
  {
   "cell_type": "code",
   "execution_count": 56,
   "id": "372d2854-7ae8-4e80-bc39-51ef5ebd2089",
   "metadata": {},
   "outputs": [
    {
     "data": {
      "text/plain": [
       "15.0"
      ]
     },
     "execution_count": 56,
     "metadata": {},
     "output_type": "execute_result"
    }
   ],
   "source": [
    "np.median(n1)"
   ]
  },
  {
   "cell_type": "code",
   "execution_count": 55,
   "id": "e747835d-1386-49ec-a3d9-ad16c1f45365",
   "metadata": {},
   "outputs": [
    {
     "data": {
      "text/plain": [
       "11.547005383792516"
      ]
     },
     "execution_count": 55,
     "metadata": {},
     "output_type": "execute_result"
    }
   ],
   "source": [
    "np.std(n1)"
   ]
  },
  {
   "cell_type": "markdown",
   "id": "a95c1506-f286-4e27-8066-457a9e270e43",
   "metadata": {},
   "source": [
    "# numpy matrix"
   ]
  },
  {
   "cell_type": "code",
   "execution_count": 60,
   "id": "72024324-1af4-488b-aa35-160b209e918a",
   "metadata": {},
   "outputs": [
    {
     "data": {
      "text/plain": [
       "array([[1, 2, 3],\n",
       "       [4, 5, 6],\n",
       "       [7, 8, 9]])"
      ]
     },
     "execution_count": 60,
     "metadata": {},
     "output_type": "execute_result"
    }
   ],
   "source": [
    "n1=np.array([[1,2,3],[4,5,6],[7,8,9]])\n",
    "n1"
   ]
  },
  {
   "cell_type": "code",
   "execution_count": 62,
   "id": "08a8605d-c226-401e-baac-fe520d73d1a4",
   "metadata": {},
   "outputs": [
    {
     "data": {
      "text/plain": [
       "array([1, 2, 3])"
      ]
     },
     "execution_count": 62,
     "metadata": {},
     "output_type": "execute_result"
    }
   ],
   "source": [
    "n1[0]"
   ]
  },
  {
   "cell_type": "code",
   "execution_count": 63,
   "id": "0dea0ca4-5fb9-4503-bc74-24477851b205",
   "metadata": {},
   "outputs": [
    {
     "data": {
      "text/plain": [
       "array([4, 5, 6])"
      ]
     },
     "execution_count": 63,
     "metadata": {},
     "output_type": "execute_result"
    }
   ],
   "source": [
    "n1[1]"
   ]
  },
  {
   "cell_type": "code",
   "execution_count": 64,
   "id": "6bd718ad-4d6c-41ab-905a-9b64f855c623",
   "metadata": {},
   "outputs": [
    {
     "data": {
      "text/plain": [
       "array([7, 8, 9])"
      ]
     },
     "execution_count": 64,
     "metadata": {},
     "output_type": "execute_result"
    }
   ],
   "source": [
    "n1[2]"
   ]
  },
  {
   "cell_type": "code",
   "execution_count": 65,
   "id": "e3b7fe21-04d5-40fd-bb1e-ff22aac76fb3",
   "metadata": {},
   "outputs": [
    {
     "data": {
      "text/plain": [
       "array([2, 5, 8])"
      ]
     },
     "execution_count": 65,
     "metadata": {},
     "output_type": "execute_result"
    }
   ],
   "source": [
    "n1[:,1]"
   ]
  },
  {
   "cell_type": "code",
   "execution_count": 66,
   "id": "2e0bb71c-1585-4a91-886f-2481ce77d63f",
   "metadata": {},
   "outputs": [
    {
     "data": {
      "text/plain": [
       "array([3, 6, 9])"
      ]
     },
     "execution_count": 66,
     "metadata": {},
     "output_type": "execute_result"
    }
   ],
   "source": [
    "n1[:,2]"
   ]
  },
  {
   "cell_type": "code",
   "execution_count": 67,
   "id": "7dbe29f9-6015-4a64-94bb-dd31943feea8",
   "metadata": {},
   "outputs": [
    {
     "data": {
      "text/plain": [
       "array([[1, 4, 7],\n",
       "       [2, 5, 8],\n",
       "       [3, 6, 9]])"
      ]
     },
     "execution_count": 67,
     "metadata": {},
     "output_type": "execute_result"
    }
   ],
   "source": [
    "n1.transpose()"
   ]
  },
  {
   "cell_type": "markdown",
   "id": "ac7df134-c353-438b-a8f9-970ed344cbff",
   "metadata": {},
   "source": [
    "# numpy matrix multiplication"
   ]
  },
  {
   "cell_type": "code",
   "execution_count": 69,
   "id": "d71943e3-9d58-4bed-97cf-6488dfa3a2bf",
   "metadata": {},
   "outputs": [
    {
     "data": {
      "text/plain": [
       "array([[1, 2, 3],\n",
       "       [4, 5, 6],\n",
       "       [7, 8, 9]])"
      ]
     },
     "execution_count": 69,
     "metadata": {},
     "output_type": "execute_result"
    }
   ],
   "source": [
    "n1=np.array([[1,2,3],[4,5,6],[7,8,9]])\n",
    "n1"
   ]
  },
  {
   "cell_type": "code",
   "execution_count": 70,
   "id": "7e2b36d8-b12a-4e7e-94c3-edb0cb0af2d8",
   "metadata": {},
   "outputs": [
    {
     "data": {
      "text/plain": [
       "array([[9, 8, 7],\n",
       "       [6, 5, 4],\n",
       "       [3, 2, 1]])"
      ]
     },
     "execution_count": 70,
     "metadata": {},
     "output_type": "execute_result"
    }
   ],
   "source": [
    "n2=np.array([[9,8,7],[6,5,4],[3,2,1]])\n",
    "n2"
   ]
  },
  {
   "cell_type": "code",
   "execution_count": 71,
   "id": "be5d42ab-34b3-458e-945b-5593c571060f",
   "metadata": {},
   "outputs": [
    {
     "data": {
      "text/plain": [
       "array([[ 30,  24,  18],\n",
       "       [ 84,  69,  54],\n",
       "       [138, 114,  90]])"
      ]
     },
     "execution_count": 71,
     "metadata": {},
     "output_type": "execute_result"
    }
   ],
   "source": [
    "n1.dot(n2)"
   ]
  },
  {
   "cell_type": "code",
   "execution_count": 72,
   "id": "75f48cf4-240e-457f-9c18-d99440735e3d",
   "metadata": {},
   "outputs": [
    {
     "data": {
      "text/plain": [
       "array([[ 90, 114, 138],\n",
       "       [ 54,  69,  84],\n",
       "       [ 18,  24,  30]])"
      ]
     },
     "execution_count": 72,
     "metadata": {},
     "output_type": "execute_result"
    }
   ],
   "source": [
    "n2.dot(n1)"
   ]
  },
  {
   "cell_type": "code",
   "execution_count": 73,
   "id": "01a5899a-8bb6-4bbe-ba8e-c3f560e8e03d",
   "metadata": {},
   "outputs": [],
   "source": [
    "np.save('save_n1',n1)\n"
   ]
  },
  {
   "cell_type": "code",
   "execution_count": 75,
   "id": "f1907534-00ad-4bce-84ac-0041e6c8f99c",
   "metadata": {},
   "outputs": [
    {
     "data": {
      "text/plain": [
       "array([[1, 2, 3],\n",
       "       [4, 5, 6],\n",
       "       [7, 8, 9]])"
      ]
     },
     "execution_count": 75,
     "metadata": {},
     "output_type": "execute_result"
    }
   ],
   "source": [
    "n12=np.load('save_n1.npy')\n",
    "n12"
   ]
  },
  {
   "cell_type": "code",
   "execution_count": null,
   "id": "6b80a5db-2a96-46a7-8f50-b1e0ba1c4786",
   "metadata": {},
   "outputs": [],
   "source": []
  }
 ],
 "metadata": {
  "kernelspec": {
   "display_name": "Python 3 (ipykernel)",
   "language": "python",
   "name": "python3"
  },
  "language_info": {
   "codemirror_mode": {
    "name": "ipython",
    "version": 3
   },
   "file_extension": ".py",
   "mimetype": "text/x-python",
   "name": "python",
   "nbconvert_exporter": "python",
   "pygments_lexer": "ipython3",
   "version": "3.11.7"
  }
 },
 "nbformat": 4,
 "nbformat_minor": 5
}
